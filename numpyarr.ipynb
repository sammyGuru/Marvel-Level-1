{
  "nbformat": 4,
  "nbformat_minor": 0,
  "metadata": {
    "colab": {
      "provenance": [],
      "authorship_tag": "ABX9TyNUZEWU1pj+tAThg0qrHN/I",
      "include_colab_link": true
    },
    "kernelspec": {
      "name": "python3",
      "display_name": "Python 3"
    },
    "language_info": {
      "name": "python"
    }
  },
  "cells": [
    {
      "cell_type": "markdown",
      "metadata": {
        "id": "view-in-github",
        "colab_type": "text"
      },
      "source": [
        "<a href=\"https://colab.research.google.com/github/sammyGuru/Marvel-Level-1/blob/main/numpyarr.ipynb\" target=\"_parent\"><img src=\"https://colab.research.google.com/assets/colab-badge.svg\" alt=\"Open In Colab\"/></a>"
      ]
    },
    {
      "cell_type": "code",
      "execution_count": 1,
      "metadata": {
        "id": "JkY5KeBXlU5q"
      },
      "outputs": [],
      "source": [
        "import numpy as np\n"
      ]
    },
    {
      "cell_type": "code",
      "source": [
        "array = ([[2,1],[3,4]])\n",
        "repeat_array = np.tile(array,(3,4))#repeats the array 3 times in first dimension and 4 times in the second using np.tile()\n",
        "print(repeat_array)"
      ],
      "metadata": {
        "colab": {
          "base_uri": "https://localhost:8080/"
        },
        "id": "fbJyf1Dfl7g2",
        "outputId": "f3242ddf-655e-4672-ddc8-f2864df2dc76"
      },
      "execution_count": 2,
      "outputs": [
        {
          "output_type": "stream",
          "name": "stdout",
          "text": [
            "[[2 1 2 1 2 1 2 1]\n",
            " [3 4 3 4 3 4 3 4]\n",
            " [2 1 2 1 2 1 2 1]\n",
            " [3 4 3 4 3 4 3 4]\n",
            " [2 1 2 1 2 1 2 1]\n",
            " [3 4 3 4 3 4 3 4]]\n"
          ]
        }
      ]
    },
    {
      "cell_type": "code",
      "source": [
        "shape = (4,3)\n",
        "index = np.indices(shape)\n",
        "print(index)\n",
        "print()\n",
        "flat_index = np.ravel_multi_index(index,shape)#converts multidimensional array into a flat array where indices are in ascending order\n",
        "print(flat_index)#Each value in the flat_index array corresponds to the index of the element in the original array, with the order determined by flattening the index array."
      ],
      "metadata": {
        "colab": {
          "base_uri": "https://localhost:8080/"
        },
        "id": "j5x8ij5ymYrK",
        "outputId": "6a47c4f9-5a25-4f77-9596-d01c2780017c"
      },
      "execution_count": 5,
      "outputs": [
        {
          "output_type": "stream",
          "name": "stdout",
          "text": [
            "[[[0 0 0]\n",
            "  [1 1 1]\n",
            "  [2 2 2]\n",
            "  [3 3 3]]\n",
            "\n",
            " [[0 1 2]\n",
            "  [0 1 2]\n",
            "  [0 1 2]\n",
            "  [0 1 2]]]\n",
            "\n",
            "[[ 0  1  2]\n",
            " [ 3  4  5]\n",
            " [ 6  7  8]\n",
            " [ 9 10 11]]\n"
          ]
        }
      ]
    }
  ]
}