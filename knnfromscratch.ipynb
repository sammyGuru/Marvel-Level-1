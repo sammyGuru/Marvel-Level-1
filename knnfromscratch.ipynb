{
  "nbformat": 4,
  "nbformat_minor": 0,
  "metadata": {
    "colab": {
      "provenance": [],
      "authorship_tag": "ABX9TyMyawe1GBTWGt3QNACLR5z8",
      "include_colab_link": true
    },
    "kernelspec": {
      "name": "python3",
      "display_name": "Python 3"
    },
    "language_info": {
      "name": "python"
    }
  },
  "cells": [
    {
      "cell_type": "markdown",
      "metadata": {
        "id": "view-in-github",
        "colab_type": "text"
      },
      "source": [
        "<a href=\"https://colab.research.google.com/github/sammyGuru/Marvel-Level-1/blob/main/knnfromscratch.ipynb\" target=\"_parent\"><img src=\"https://colab.research.google.com/assets/colab-badge.svg\" alt=\"Open In Colab\"/></a>"
      ]
    },
    {
      "cell_type": "code",
      "execution_count": 23,
      "metadata": {
        "id": "LQOMvLXRNTjD"
      },
      "outputs": [],
      "source": [
        "from collections import Counter#for counting hashable objects\n",
        "import math\n",
        "#1. Load the data"
      ]
    },
    {
      "cell_type": "code",
      "source": [
        "def knn(data,query,k,distance_fn,choice_fn):\n",
        "  neighbor_distance = []\n",
        "  for index, example in enumerate(data):\n",
        "    #2. Calculate the distance between the query example and the current example from the data.\n",
        "    distance = distance_fn(example[:-1], query)#query: example for which we want to find the nearest neighbors.\n",
        "    # distance_fn: A function to calculate the distance between two points\n",
        "\n",
        "    # 3. add the distances of all the neighbors from the current query\n",
        "    neighbor_distance.append((distance,index))\n",
        "\n",
        "    #4. sort in ascending order\n",
        "  sorted_dist = sorted(neighbor_distance)\n",
        "\n",
        "    #5. pick the first k entries\n",
        "  k_nearest = sorted_dist[:k]\n",
        "\n",
        "    #6. get the labels of the selected k entries\n",
        "  nearest_labels = [data[i][-1] for distance, i in k_nearest] #iterates over every tuple containing (distannce, index) and gives the example which is there and stores it in a list\n",
        "\n",
        "    #7. return mean if regression and mode if classification, using choice_fn\n",
        "  return k_nearest, choice_fn(nearest_labels)\n",
        "\n"
      ],
      "metadata": {
        "id": "XgOICzErPr8z"
      },
      "execution_count": 24,
      "outputs": []
    },
    {
      "cell_type": "code",
      "source": [
        "def mean(labels):\n",
        "  return sum(labels)/len(labels)\n",
        "\n",
        "def mode(labels):\n",
        "  return Counter(labels).most_common(1)[0][0]\n",
        "\n",
        "def euclidean_distance(point1,point2):#distance formula\n",
        "  sum_squared_dist = 0\n",
        "  for i in range(len(point1)):\n",
        "    sum_squared_dist += math.pow(point1[i] - point2[i], 2)#root(summation(x1-x2)^2)\n",
        "  return math.sqrt(sum_squared_dist)"
      ],
      "metadata": {
        "id": "p_SOVTi-XsuJ"
      },
      "execution_count": 25,
      "outputs": []
    },
    {
      "cell_type": "code",
      "source": [
        "#applying knn on data\n",
        "def main():\n",
        "  #weight and height: regression\n",
        "  reg_data = [\n",
        "       [65.75, 112.99],\n",
        "       [71.52, 136.49],\n",
        "       [69.40, 153.03],\n",
        "       [68.22, 142.34],\n",
        "       [67.79, 144.30],\n",
        "       [68.70, 123.30],\n",
        "       [69.80, 141.49],\n",
        "       [70.01, 136.46],\n",
        "       [67.90, 112.37],\n",
        "       [66.49, 127.45],\n",
        "    ]\n",
        "    #Given the data we have, what's the best-guess at someone's weight if they are 60 inches tall?\n",
        "  reg_query = [60]\n",
        "  reg_k_nearest, reg_predicts = knn(reg_data,reg_query, k=3 , distance_fn = euclidean_distance, choice_fn = mean)\n",
        "  print(reg_predicts)\n",
        "  #age, likes pineapple\n",
        "  clf_data = [\n",
        "       [22, 1],\n",
        "       [23, 1],\n",
        "       [21, 1],\n",
        "       [18, 1],\n",
        "       [19, 1],\n",
        "       [25, 0],\n",
        "       [27, 0],\n",
        "       [29, 0],\n",
        "       [31, 0],\n",
        "       [45, 0],\n",
        "    ]\n",
        "  clf_query = [33]\n",
        "  clf_k_nearest_neighbors, clf_predicts = knn(clf_data, clf_query, k=3, distance_fn=euclidean_distance, choice_fn=mode)\n",
        "  print(clf_predicts)\n",
        "\n",
        "if __name__ == \"__main__\":\n",
        "    main()"
      ],
      "metadata": {
        "colab": {
          "base_uri": "https://localhost:8080/"
        },
        "id": "NsNJVCVEX_mg",
        "outputId": "32dd3419-56d3-4723-a68f-80f1b2ca94f1"
      },
      "execution_count": 26,
      "outputs": [
        {
          "output_type": "stream",
          "name": "stdout",
          "text": [
            "128.24666666666667\n",
            "0\n"
          ]
        }
      ]
    }
  ]
}